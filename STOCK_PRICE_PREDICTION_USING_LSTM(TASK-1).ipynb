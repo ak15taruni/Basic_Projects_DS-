{
 "cells": [
  {
   "cell_type": "code",
   "execution_count": 2,
   "id": "f727cee1-ef32-4f11-ae6d-1d7d18d229e0",
   "metadata": {},
   "outputs": [
    {
     "name": "stdout",
     "output_type": "stream",
     "text": [
      "Requirement already satisfied: pandas_datareader in c:\\users\\taruni\\anaconda3\\lib\\site-packages (0.10.0)\n",
      "Requirement already satisfied: pandas>=0.23 in c:\\users\\taruni\\anaconda3\\lib\\site-packages (from pandas_datareader) (1.3.4)\n",
      "Requirement already satisfied: requests>=2.19.0 in c:\\users\\taruni\\anaconda3\\lib\\site-packages (from pandas_datareader) (2.26.0)\n",
      "Requirement already satisfied: lxml in c:\\users\\taruni\\anaconda3\\lib\\site-packages (from pandas_datareader) (4.6.3)\n",
      "Requirement already satisfied: python-dateutil>=2.7.3 in c:\\users\\taruni\\anaconda3\\lib\\site-packages (from pandas>=0.23->pandas_datareader) (2.8.2)\n",
      "Requirement already satisfied: pytz>=2017.3 in c:\\users\\taruni\\anaconda3\\lib\\site-packages (from pandas>=0.23->pandas_datareader) (2021.3)\n",
      "Requirement already satisfied: numpy>=1.17.3 in c:\\users\\taruni\\anaconda3\\lib\\site-packages (from pandas>=0.23->pandas_datareader) (1.20.3)\n",
      "Requirement already satisfied: six>=1.5 in c:\\users\\taruni\\anaconda3\\lib\\site-packages (from python-dateutil>=2.7.3->pandas>=0.23->pandas_datareader) (1.16.0)\n",
      "Requirement already satisfied: charset-normalizer~=2.0.0 in c:\\users\\taruni\\anaconda3\\lib\\site-packages (from requests>=2.19.0->pandas_datareader) (2.0.4)\n",
      "Requirement already satisfied: certifi>=2017.4.17 in c:\\users\\taruni\\anaconda3\\lib\\site-packages (from requests>=2.19.0->pandas_datareader) (2021.10.8)\n",
      "Requirement already satisfied: idna<4,>=2.5 in c:\\users\\taruni\\anaconda3\\lib\\site-packages (from requests>=2.19.0->pandas_datareader) (3.2)\n",
      "Requirement already satisfied: urllib3<1.27,>=1.21.1 in c:\\users\\taruni\\anaconda3\\lib\\site-packages (from requests>=2.19.0->pandas_datareader) (1.26.7)\n",
      "Requirement already satisfied: keras in c:\\users\\taruni\\anaconda3\\lib\\site-packages (2.14.0)\n",
      "Collecting tensorflow\n",
      "  Using cached tensorflow-2.14.0-cp39-cp39-win_amd64.whl (2.1 kB)\n",
      "Collecting tensorflow-intel==2.14.0\n",
      "  Using cached tensorflow_intel-2.14.0-cp39-cp39-win_amd64.whl (284.1 MB)\n",
      "Collecting libclang>=13.0.0\n",
      "  Using cached libclang-16.0.6-py2.py3-none-win_amd64.whl (24.4 MB)\n",
      "Collecting termcolor>=1.1.0\n",
      "  Using cached termcolor-2.3.0-py3-none-any.whl (6.9 kB)\n",
      "Requirement already satisfied: six>=1.12.0 in c:\\users\\taruni\\anaconda3\\lib\\site-packages (from tensorflow-intel==2.14.0->tensorflow) (1.16.0)\n",
      "Collecting numpy>=1.23.5\n",
      "  Using cached numpy-1.26.0-cp39-cp39-win_amd64.whl (15.8 MB)\n",
      "Collecting flatbuffers>=23.5.26\n",
      "  Using cached flatbuffers-23.5.26-py2.py3-none-any.whl (26 kB)\n",
      "Requirement already satisfied: packaging in c:\\users\\taruni\\anaconda3\\lib\\site-packages (from tensorflow-intel==2.14.0->tensorflow) (21.0)\n",
      "Collecting tensorboard<2.15,>=2.14\n",
      "  Downloading tensorboard-2.14.1-py3-none-any.whl (5.5 MB)\n",
      "Requirement already satisfied: setuptools in c:\\users\\taruni\\anaconda3\\lib\\site-packages (from tensorflow-intel==2.14.0->tensorflow) (58.0.4)\n",
      "Collecting google-pasta>=0.1.1\n",
      "  Using cached google_pasta-0.2.0-py3-none-any.whl (57 kB)\n",
      "Requirement already satisfied: keras<2.15,>=2.14.0 in c:\\users\\taruni\\anaconda3\\lib\\site-packages (from tensorflow-intel==2.14.0->tensorflow) (2.14.0)\n",
      "Collecting protobuf!=4.21.0,!=4.21.1,!=4.21.2,!=4.21.3,!=4.21.4,!=4.21.5,<5.0.0dev,>=3.20.3\n",
      "  Using cached protobuf-4.24.4-cp39-cp39-win_amd64.whl (430 kB)\n",
      "Collecting gast!=0.5.0,!=0.5.1,!=0.5.2,>=0.2.1\n",
      "  Using cached gast-0.5.4-py3-none-any.whl (19 kB)\n",
      "Collecting ml-dtypes==0.2.0\n",
      "  Using cached ml_dtypes-0.2.0-cp39-cp39-win_amd64.whl (938 kB)\n",
      "Collecting absl-py>=1.0.0\n",
      "  Using cached absl_py-2.0.0-py3-none-any.whl (130 kB)\n",
      "Collecting tensorflow-estimator<2.15,>=2.14.0\n",
      "  Using cached tensorflow_estimator-2.14.0-py2.py3-none-any.whl (440 kB)\n",
      "Collecting opt-einsum>=2.3.2\n",
      "  Using cached opt_einsum-3.3.0-py3-none-any.whl (65 kB)\n",
      "Collecting astunparse>=1.6.0\n",
      "  Using cached astunparse-1.6.3-py2.py3-none-any.whl (12 kB)\n",
      "Requirement already satisfied: wrapt<1.15,>=1.11.0 in c:\\users\\taruni\\anaconda3\\lib\\site-packages (from tensorflow-intel==2.14.0->tensorflow) (1.12.1)\n",
      "Collecting tensorflow-io-gcs-filesystem>=0.23.1\n",
      "  Using cached tensorflow_io_gcs_filesystem-0.31.0-cp39-cp39-win_amd64.whl (1.5 MB)\n",
      "Collecting grpcio<2.0,>=1.24.3\n",
      "  Using cached grpcio-1.59.0-cp39-cp39-win_amd64.whl (3.7 MB)\n",
      "Requirement already satisfied: h5py>=2.9.0 in c:\\users\\taruni\\anaconda3\\lib\\site-packages (from tensorflow-intel==2.14.0->tensorflow) (3.2.1)\n",
      "Requirement already satisfied: typing-extensions>=3.6.6 in c:\\users\\taruni\\anaconda3\\lib\\site-packages (from tensorflow-intel==2.14.0->tensorflow) (3.10.0.2)\n",
      "Requirement already satisfied: wheel<1.0,>=0.23.0 in c:\\users\\taruni\\anaconda3\\lib\\site-packages (from astunparse>=1.6.0->tensorflow-intel==2.14.0->tensorflow) (0.37.0)\n",
      "Requirement already satisfied: requests<3,>=2.21.0 in c:\\users\\taruni\\anaconda3\\lib\\site-packages (from tensorboard<2.15,>=2.14->tensorflow-intel==2.14.0->tensorflow) (2.26.0)\n",
      "Requirement already satisfied: werkzeug>=1.0.1 in c:\\users\\taruni\\anaconda3\\lib\\site-packages (from tensorboard<2.15,>=2.14->tensorflow-intel==2.14.0->tensorflow) (2.0.2)\n",
      "Collecting tensorboard-data-server<0.8.0,>=0.7.0\n",
      "  Downloading tensorboard_data_server-0.7.1-py3-none-any.whl (2.4 kB)\n",
      "Collecting google-auth<3,>=1.6.3\n",
      "  Using cached google_auth-2.23.3-py2.py3-none-any.whl (182 kB)\n",
      "Collecting google-auth-oauthlib<1.1,>=0.5\n",
      "  Downloading google_auth_oauthlib-1.0.0-py2.py3-none-any.whl (18 kB)\n",
      "Collecting markdown>=2.6.8\n",
      "  Downloading Markdown-3.5-py3-none-any.whl (101 kB)\n",
      "Collecting rsa<5,>=3.1.4\n",
      "  Using cached rsa-4.9-py3-none-any.whl (34 kB)\n",
      "Collecting cachetools<6.0,>=2.0.0\n",
      "  Using cached cachetools-5.3.1-py3-none-any.whl (9.3 kB)\n",
      "Collecting pyasn1-modules>=0.2.1\n",
      "  Using cached pyasn1_modules-0.3.0-py2.py3-none-any.whl (181 kB)\n",
      "Collecting requests-oauthlib>=0.7.0\n",
      "  Using cached requests_oauthlib-1.3.1-py2.py3-none-any.whl (23 kB)\n",
      "Requirement already satisfied: importlib-metadata>=4.4 in c:\\users\\taruni\\anaconda3\\lib\\site-packages (from markdown>=2.6.8->tensorboard<2.15,>=2.14->tensorflow-intel==2.14.0->tensorflow) (4.8.1)\n",
      "Requirement already satisfied: zipp>=0.5 in c:\\users\\taruni\\anaconda3\\lib\\site-packages (from importlib-metadata>=4.4->markdown>=2.6.8->tensorboard<2.15,>=2.14->tensorflow-intel==2.14.0->tensorflow) (3.6.0)\n",
      "Collecting pyasn1<0.6.0,>=0.4.6\n",
      "  Using cached pyasn1-0.5.0-py2.py3-none-any.whl (83 kB)\n",
      "Requirement already satisfied: urllib3<1.27,>=1.21.1 in c:\\users\\taruni\\anaconda3\\lib\\site-packages (from requests<3,>=2.21.0->tensorboard<2.15,>=2.14->tensorflow-intel==2.14.0->tensorflow) (1.26.7)\n",
      "Requirement already satisfied: certifi>=2017.4.17 in c:\\users\\taruni\\anaconda3\\lib\\site-packages (from requests<3,>=2.21.0->tensorboard<2.15,>=2.14->tensorflow-intel==2.14.0->tensorflow) (2021.10.8)\n",
      "Requirement already satisfied: idna<4,>=2.5 in c:\\users\\taruni\\anaconda3\\lib\\site-packages (from requests<3,>=2.21.0->tensorboard<2.15,>=2.14->tensorflow-intel==2.14.0->tensorflow) (3.2)\n",
      "Requirement already satisfied: charset-normalizer~=2.0.0 in c:\\users\\taruni\\anaconda3\\lib\\site-packages (from requests<3,>=2.21.0->tensorboard<2.15,>=2.14->tensorflow-intel==2.14.0->tensorflow) (2.0.4)\n",
      "Collecting oauthlib>=3.0.0\n",
      "  Using cached oauthlib-3.2.2-py3-none-any.whl (151 kB)\n",
      "Requirement already satisfied: pyparsing>=2.0.2 in c:\\users\\taruni\\anaconda3\\lib\\site-packages (from packaging->tensorflow-intel==2.14.0->tensorflow) (3.0.4)\n",
      "Installing collected packages: pyasn1, rsa, pyasn1-modules, oauthlib, cachetools, requests-oauthlib, google-auth, tensorboard-data-server, protobuf, numpy, markdown, grpcio, google-auth-oauthlib, absl-py, termcolor, tensorflow-io-gcs-filesystem, tensorflow-estimator, tensorboard, opt-einsum, ml-dtypes, libclang, google-pasta, gast, flatbuffers, astunparse, tensorflow-intel, tensorflow\n",
      "  Attempting uninstall: numpy\n",
      "    Found existing installation: numpy 1.20.3\n",
      "    Uninstalling numpy-1.20.3:\n",
      "      Successfully uninstalled numpy-1.20.3\n",
      "Successfully installed absl-py-2.0.0 astunparse-1.6.3 cachetools-5.3.1 flatbuffers-23.5.26 gast-0.5.4 google-auth-2.23.3 google-auth-oauthlib-1.0.0 google-pasta-0.2.0 grpcio-1.59.0 libclang-16.0.6 markdown-3.5 ml-dtypes-0.2.0 numpy-1.26.0 oauthlib-3.2.2 opt-einsum-3.3.0 protobuf-4.24.4 pyasn1-0.5.0 pyasn1-modules-0.3.0 requests-oauthlib-1.3.1 rsa-4.9 tensorboard-2.14.1 tensorboard-data-server-0.7.1 tensorflow-2.14.0 tensorflow-estimator-2.14.0 tensorflow-intel-2.14.0 tensorflow-io-gcs-filesystem-0.31.0 termcolor-2.3.0\n"
     ]
    },
    {
     "name": "stderr",
     "output_type": "stream",
     "text": [
      "ERROR: pip's dependency resolver does not currently take into account all the packages that are installed. This behaviour is the source of the following dependency conflicts.\n",
      "daal4py 2021.3.0 requires daal==2021.2.3, which is not installed.\n",
      "scipy 1.7.1 requires numpy<1.23.0,>=1.16.5, but you have numpy 1.26.0 which is incompatible.\n",
      "numba 0.54.1 requires numpy<1.21,>=1.17, but you have numpy 1.26.0 which is incompatible.\n"
     ]
    }
   ],
   "source": [
    "!pip install pandas_datareader\n",
    "!pip install keras\n",
    "!pip install tensorflow"
   ]
  },
  {
   "cell_type": "code",
   "execution_count": 4,
   "id": "1cdeaa96-5611-400f-a834-12129f3a6eb2",
   "metadata": {},
   "outputs": [],
   "source": [
    "import numpy as np \n",
    "import pandas as pd \n",
    "import matplotlib.pyplot as plt\n",
    "import pandas_datareader as web\n",
    "from sklearn.preprocessing import MinMaxScaler\n",
    "from keras.models import Sequential\n",
    "from keras.layers import Dense, LSTM\n",
    "import math"
   ]
  },
  {
   "cell_type": "code",
   "execution_count": 3,
   "id": "60e2d739-9a39-45d1-93c6-8a991c743a03",
   "metadata": {},
   "outputs": [
    {
     "name": "stdout",
     "output_type": "stream",
     "text": [
      "<class 'pandas.core.frame.DataFrame'>\n",
      "RangeIndex: 251 entries, 0 to 250\n",
      "Data columns (total 7 columns):\n",
      " #   Column     Non-Null Count  Dtype  \n",
      "---  ------     --------------  -----  \n",
      " 0   Date       251 non-null    object \n",
      " 1   Open       251 non-null    float64\n",
      " 2   High       251 non-null    float64\n",
      " 3   Low        251 non-null    float64\n",
      " 4   Close      251 non-null    float64\n",
      " 5   Adj Close  251 non-null    float64\n",
      " 6   Volume     251 non-null    int64  \n",
      "dtypes: float64(5), int64(1), object(1)\n",
      "memory usage: 13.9+ KB\n"
     ]
    }
   ],
   "source": [
    "df=pd.read_csv(\"TSLA.csv\")\n",
    "df.info()"
   ]
  },
  {
   "cell_type": "code",
   "execution_count": 28,
   "id": "66213613",
   "metadata": {
    "scrolled": true
   },
   "outputs": [
    {
     "data": {
      "text/html": [
       "<div>\n",
       "<style scoped>\n",
       "    .dataframe tbody tr th:only-of-type {\n",
       "        vertical-align: middle;\n",
       "    }\n",
       "\n",
       "    .dataframe tbody tr th {\n",
       "        vertical-align: top;\n",
       "    }\n",
       "\n",
       "    .dataframe thead th {\n",
       "        text-align: right;\n",
       "    }\n",
       "</style>\n",
       "<table border=\"1\" class=\"dataframe\">\n",
       "  <thead>\n",
       "    <tr style=\"text-align: right;\">\n",
       "      <th></th>\n",
       "      <th>Open</th>\n",
       "      <th>High</th>\n",
       "      <th>Low</th>\n",
       "      <th>Close</th>\n",
       "      <th>Adj Close</th>\n",
       "      <th>Volume</th>\n",
       "    </tr>\n",
       "    <tr>\n",
       "      <th>Date</th>\n",
       "      <th></th>\n",
       "      <th></th>\n",
       "      <th></th>\n",
       "      <th></th>\n",
       "      <th></th>\n",
       "      <th></th>\n",
       "    </tr>\n",
       "  </thead>\n",
       "  <tbody>\n",
       "    <tr>\n",
       "      <th>2022-07-27</th>\n",
       "      <td>263.809998</td>\n",
       "      <td>275.926666</td>\n",
       "      <td>261.790009</td>\n",
       "      <td>274.820007</td>\n",
       "      <td>274.820007</td>\n",
       "      <td>88110000</td>\n",
       "    </tr>\n",
       "    <tr>\n",
       "      <th>2022-07-28</th>\n",
       "      <td>280.066681</td>\n",
       "      <td>283.299988</td>\n",
       "      <td>272.799988</td>\n",
       "      <td>280.899994</td>\n",
       "      <td>280.899994</td>\n",
       "      <td>84723000</td>\n",
       "    </tr>\n",
       "    <tr>\n",
       "      <th>2022-07-29</th>\n",
       "      <td>280.700012</td>\n",
       "      <td>298.320007</td>\n",
       "      <td>279.100006</td>\n",
       "      <td>297.149994</td>\n",
       "      <td>297.149994</td>\n",
       "      <td>95313000</td>\n",
       "    </tr>\n",
       "    <tr>\n",
       "      <th>2022-08-01</th>\n",
       "      <td>301.276672</td>\n",
       "      <td>311.876678</td>\n",
       "      <td>295.000000</td>\n",
       "      <td>297.276672</td>\n",
       "      <td>297.276672</td>\n",
       "      <td>117042900</td>\n",
       "    </tr>\n",
       "    <tr>\n",
       "      <th>2022-08-02</th>\n",
       "      <td>294.003326</td>\n",
       "      <td>307.833344</td>\n",
       "      <td>292.666656</td>\n",
       "      <td>300.586670</td>\n",
       "      <td>300.586670</td>\n",
       "      <td>95577600</td>\n",
       "    </tr>\n",
       "    <tr>\n",
       "      <th>...</th>\n",
       "      <td>...</td>\n",
       "      <td>...</td>\n",
       "      <td>...</td>\n",
       "      <td>...</td>\n",
       "      <td>...</td>\n",
       "      <td>...</td>\n",
       "    </tr>\n",
       "    <tr>\n",
       "      <th>2023-07-20</th>\n",
       "      <td>279.559998</td>\n",
       "      <td>280.929993</td>\n",
       "      <td>261.200012</td>\n",
       "      <td>262.899994</td>\n",
       "      <td>262.899994</td>\n",
       "      <td>175158300</td>\n",
       "    </tr>\n",
       "    <tr>\n",
       "      <th>2023-07-21</th>\n",
       "      <td>268.000000</td>\n",
       "      <td>268.000000</td>\n",
       "      <td>255.800003</td>\n",
       "      <td>260.019989</td>\n",
       "      <td>260.019989</td>\n",
       "      <td>161050100</td>\n",
       "    </tr>\n",
       "    <tr>\n",
       "      <th>2023-07-24</th>\n",
       "      <td>255.850006</td>\n",
       "      <td>269.850006</td>\n",
       "      <td>254.119995</td>\n",
       "      <td>269.059998</td>\n",
       "      <td>269.059998</td>\n",
       "      <td>136508500</td>\n",
       "    </tr>\n",
       "    <tr>\n",
       "      <th>2023-07-25</th>\n",
       "      <td>272.380005</td>\n",
       "      <td>272.899994</td>\n",
       "      <td>265.000000</td>\n",
       "      <td>265.279999</td>\n",
       "      <td>265.279999</td>\n",
       "      <td>112757300</td>\n",
       "    </tr>\n",
       "    <tr>\n",
       "      <th>2023-07-26</th>\n",
       "      <td>263.250000</td>\n",
       "      <td>268.040009</td>\n",
       "      <td>261.750000</td>\n",
       "      <td>264.350006</td>\n",
       "      <td>264.350006</td>\n",
       "      <td>95559000</td>\n",
       "    </tr>\n",
       "  </tbody>\n",
       "</table>\n",
       "<p>251 rows × 6 columns</p>\n",
       "</div>"
      ],
      "text/plain": [
       "                  Open        High         Low       Close   Adj Close  \\\n",
       "Date                                                                     \n",
       "2022-07-27  263.809998  275.926666  261.790009  274.820007  274.820007   \n",
       "2022-07-28  280.066681  283.299988  272.799988  280.899994  280.899994   \n",
       "2022-07-29  280.700012  298.320007  279.100006  297.149994  297.149994   \n",
       "2022-08-01  301.276672  311.876678  295.000000  297.276672  297.276672   \n",
       "2022-08-02  294.003326  307.833344  292.666656  300.586670  300.586670   \n",
       "...                ...         ...         ...         ...         ...   \n",
       "2023-07-20  279.559998  280.929993  261.200012  262.899994  262.899994   \n",
       "2023-07-21  268.000000  268.000000  255.800003  260.019989  260.019989   \n",
       "2023-07-24  255.850006  269.850006  254.119995  269.059998  269.059998   \n",
       "2023-07-25  272.380005  272.899994  265.000000  265.279999  265.279999   \n",
       "2023-07-26  263.250000  268.040009  261.750000  264.350006  264.350006   \n",
       "\n",
       "               Volume  \n",
       "Date                   \n",
       "2022-07-27   88110000  \n",
       "2022-07-28   84723000  \n",
       "2022-07-29   95313000  \n",
       "2022-08-01  117042900  \n",
       "2022-08-02   95577600  \n",
       "...               ...  \n",
       "2023-07-20  175158300  \n",
       "2023-07-21  161050100  \n",
       "2023-07-24  136508500  \n",
       "2023-07-25  112757300  \n",
       "2023-07-26   95559000  \n",
       "\n",
       "[251 rows x 6 columns]"
      ]
     },
     "execution_count": 28,
     "metadata": {},
     "output_type": "execute_result"
    }
   ],
   "source": [
    "df\n"
   ]
  },
  {
   "cell_type": "code",
   "execution_count": 5,
   "id": "650752c3-cc3a-475d-ba90-e1a1b94ab71c",
   "metadata": {},
   "outputs": [],
   "source": [
    "df['Date'] = pd.to_datetime(df['Date'])\n",
    "df.set_index('Date',inplace=True)"
   ]
  },
  {
   "cell_type": "code",
   "execution_count": 6,
   "id": "dd76b8d1",
   "metadata": {},
   "outputs": [
    {
     "data": {
      "text/plain": [
       "(251, 6)"
      ]
     },
     "execution_count": 6,
     "metadata": {},
     "output_type": "execute_result"
    }
   ],
   "source": [
    "df.shape"
   ]
  },
  {
   "cell_type": "code",
   "execution_count": 7,
   "id": "9e2db596",
   "metadata": {},
   "outputs": [
    {
     "data": {
      "image/png": "[encoded data removed]",
      "text/plain": [
       "<Figure size 1152x576 with 1 Axes>"
      ]
     },
     "metadata": {
      "needs_background": "light"
     },
     "output_type": "display_data"
    }
   ],
   "source": [
    "plt.figure(figsize=(16,8))\n",
    "plt.title('Close Price History')\n",
    "plt.plot(df['Close'], color='red')\n",
    "plt.xlabel('Date', fontsize=18)\n",
    "plt.ylabel('Close Price USD', fontsize = 18)\n",
    "plt.show()\n"
   ]
  },
  {
   "cell_type": "code",
   "execution_count": 8,
   "id": "b22316dd",
   "metadata": {},
   "outputs": [
    {
     "data": {
      "text/plain": [
       "201"
      ]
     },
     "execution_count": 8,
     "metadata": {},
     "output_type": "execute_result"
    }
   ],
   "source": [
    "data = df.filter(['Close'])\n",
    "dataset = data.values #convert the data frame to a numpy array\n",
    "training_data_len = math.ceil(len(dataset)*.8)  # number of rows to train the model on\n",
    "training_data_len"
   ]
  },
  {
   "cell_type": "code",
   "execution_count": 9,
   "id": "9bc8836a",
   "metadata": {},
   "outputs": [
    {
     "data": {
      "text/plain": [
       "array([[0.82854588],\n",
       "       [0.8587615 ],\n",
       "       [0.93951887],\n",
       "       [0.94014842],\n",
       "       [0.95659807],\n",
       "       [0.99044161],\n",
       "       [0.99658744],\n",
       "       [0.8948912 ],\n",
       "       [0.90608952],\n",
       "       [0.87085448],\n",
       "       [0.92563688],\n",
       "       [0.88723784],\n",
       "       [0.95383159],\n",
       "       [1.        ],\n",
       "       [0.98630015],\n",
       "       [0.97354471],\n",
       "       [0.96794547],\n",
       "       [0.93711684],\n",
       "       [0.90355493],\n",
       "       [0.93605672],\n",
       "       [0.93925392],\n",
       "       [0.93415168],\n",
       "       [0.89449354],\n",
       "       [0.87824272],\n",
       "       [0.84285859],\n",
       "       [0.83247182],\n",
       "       [0.84017493],\n",
       "       [0.80563555],\n",
       "       [0.82655803],\n",
       "       [0.8726767 ],\n",
       "       [0.90030814],\n",
       "       [0.95209217],\n",
       "       [0.97564857],\n",
       "       [0.91457111],\n",
       "       [0.96665331],\n",
       "       [0.97231882],\n",
       "       [0.97033098],\n",
       "       [0.99875758],\n",
       "       [0.99706791],\n",
       "       [0.95765819],\n",
       "       [0.89697838],\n",
       "       [0.83108032],\n",
       "       [0.83445982],\n",
       "       [0.86889969],\n",
       "       [0.89310204],\n",
       "       [0.79569618],\n",
       "       [0.78098596],\n",
       "       [0.66742864],\n",
       "       [0.70241526],\n",
       "       [0.65952686],\n",
       "       [0.64620814],\n",
       "       [0.57136469],\n",
       "       [0.57081803],\n",
       "       [0.53871383],\n",
       "       [0.54239142],\n",
       "       [0.56465559],\n",
       "       [0.48151279],\n",
       "       [0.55287746],\n",
       "       [0.55705198],\n",
       "       [0.56624585],\n",
       "       [0.49289333],\n",
       "       [0.52847629],\n",
       "       [0.51262299],\n",
       "       [0.56813435],\n",
       "       [0.57916706],\n",
       "       [0.5814034 ],\n",
       "       [0.59844946],\n",
       "       [0.59357912],\n",
       "       [0.5949707 ],\n",
       "       [0.53115989],\n",
       "       [0.5327999 ],\n",
       "       [0.49383758],\n",
       "       [0.44220256],\n",
       "       [0.41347779],\n",
       "       [0.34534338],\n",
       "       [0.41059536],\n",
       "       [0.43668621],\n",
       "       [0.41173837],\n",
       "       [0.42898318],\n",
       "       [0.39171055],\n",
       "       [0.37307423],\n",
       "       [0.35826459],\n",
       "       [0.29703804],\n",
       "       [0.30717624],\n",
       "       [0.37322332],\n",
       "       [0.37153364],\n",
       "       [0.37183181],\n",
       "       [0.36144519],\n",
       "       [0.43037469],\n",
       "       [0.43037469],\n",
       "       [0.43116986],\n",
       "       [0.36949605],\n",
       "       [0.35642583],\n",
       "       [0.32770098],\n",
       "       [0.32471922],\n",
       "       [0.35259915],\n",
       "       [0.29678961],\n",
       "       [0.26264783],\n",
       "       [0.24202367],\n",
       "       [0.24634727],\n",
       "       [0.20937281],\n",
       "       [0.20758371],\n",
       "       [0.14759966],\n",
       "       [0.14645665],\n",
       "       [0.08572706],\n",
       "       [0.07479377],\n",
       "       [0.00496968],\n",
       "       [0.02291025],\n",
       "       [0.06818408],\n",
       "       [0.07494286],\n",
       "       [0.        ],\n",
       "       [0.02753206],\n",
       "       [0.01113208],\n",
       "       [0.02464964],\n",
       "       [0.05799622],\n",
       "       [0.05342411],\n",
       "       [0.07514165],\n",
       "       [0.07683133],\n",
       "       [0.07106651],\n",
       "       [0.11624096],\n",
       "       [0.10277308],\n",
       "       [0.09477189],\n",
       "       [0.12583242],\n",
       "       [0.17716927],\n",
       "       [0.17786502],\n",
       "       [0.18054862],\n",
       "       [0.25926848],\n",
       "       [0.34688397],\n",
       "       [0.29102477],\n",
       "       [0.32362588],\n",
       "       [0.36432762],\n",
       "       [0.39841965],\n",
       "       [0.40691777],\n",
       "       [0.43067286],\n",
       "       [0.44086073],\n",
       "       [0.46312489],\n",
       "       [0.49309216],\n",
       "       [0.44125831],\n",
       "       [0.43007652],\n",
       "       [0.50268362],\n",
       "       [0.52748237],\n",
       "       [0.46685216],\n",
       "       [0.4980121 ],\n",
       "       [0.44364374],\n",
       "       [0.46098797],\n",
       "       [0.46700132],\n",
       "       [0.44120864],\n",
       "       [0.49463275],\n",
       "       [0.48509097],\n",
       "       [0.47048008],\n",
       "       [0.41148987],\n",
       "       [0.445731  ],\n",
       "       [0.42595168],\n",
       "       [0.39563664],\n",
       "       [0.36725971],\n",
       "       [0.32213496],\n",
       "       [0.32471922],\n",
       "       [0.32988766],\n",
       "       [0.37352149],\n",
       "       [0.35955668],\n",
       "       [0.37784516],\n",
       "       [0.35796642],\n",
       "       [0.37347182],\n",
       "       [0.44468741],\n",
       "       [0.41273229],\n",
       "       [0.41804989],\n",
       "       [0.40905478],\n",
       "       [0.41601231],\n",
       "       [0.40299175],\n",
       "       [0.42629959],\n",
       "       [0.43325712],\n",
       "       [0.49378792],\n",
       "       [0.4307226 ],\n",
       "       [0.41983898],\n",
       "       [0.38475302],\n",
       "       [0.38246693],\n",
       "       [0.37973359],\n",
       "       [0.39106446],\n",
       "       [0.36000393],\n",
       "       [0.38664145],\n",
       "       [0.38216876],\n",
       "       [0.39230689],\n",
       "       [0.37873967],\n",
       "       [0.36025243],\n",
       "       [0.27278603],\n",
       "       [0.28317265],\n",
       "       [0.27059936],\n",
       "       [0.26125632],\n",
       "       [0.22686612],\n",
       "       [0.2588709 ],\n",
       "       [0.27934598],\n",
       "       [0.26702118],\n",
       "       [0.25946724],\n",
       "       [0.26095816],\n",
       "       [0.26389025],\n",
       "       [0.30792166],\n",
       "       [0.31651919],\n",
       "       [0.30339923],\n",
       "       [0.30036772],\n",
       "       [0.31796045],\n",
       "       [0.29758471],\n",
       "       [0.28948417],\n",
       "       [0.29032901],\n",
       "       [0.32680648],\n",
       "       [0.34186462],\n",
       "       [0.35801609],\n",
       "       [0.40140142],\n",
       "       [0.38599544],\n",
       "       [0.3717324 ],\n",
       "       [0.37953484],\n",
       "       [0.42277108],\n",
       "       [0.46247889],\n",
       "       [0.47624486],\n",
       "       [0.49408608],\n",
       "       [0.52614053],\n",
       "       [0.54423019],\n",
       "       [0.562618  ],\n",
       "       [0.57881922],\n",
       "       [0.62995725],\n",
       "       [0.677368  ],\n",
       "       [0.70435343],\n",
       "       [0.74848418],\n",
       "       [0.73894247],\n",
       "       [0.73451938],\n",
       "       [0.75757879],\n",
       "       [0.82670712],\n",
       "       [0.75221144],\n",
       "       [0.77780529],\n",
       "       [0.73799822],\n",
       "       [0.66071961],\n",
       "       [0.70624194],\n",
       "       [0.73620905],\n",
       "       [0.7424709 ],\n",
       "       [0.7636914 ],\n",
       "       [0.8533943 ],\n",
       "       [0.86661368],\n",
       "       [0.83709375],\n",
       "       [0.82660763],\n",
       "       [0.80265371],\n",
       "       [0.80354837],\n",
       "       [0.81448159],\n",
       "       [0.84385244],\n",
       "       [0.861147  ],\n",
       "       [0.90587416],\n",
       "       [0.92058438],\n",
       "       [0.91024751],\n",
       "       [0.76930717],\n",
       "       [0.75499445],\n",
       "       [0.79992045],\n",
       "       [0.78113505],\n",
       "       [0.77651327]])"
      ]
     },
     "execution_count": 9,
     "metadata": {},
     "output_type": "execute_result"
    }
   ],
   "source": [
    "\n",
    "scaler = MinMaxScaler(feature_range=(0,1))\n",
    "scaled_data = scaler.fit_transform(dataset)\n",
    "scaled_data\n"
   ]
  },
  {
   "cell_type": "code",
   "execution_count": 10,
   "id": "487f137e",
   "metadata": {},
   "outputs": [
    {
     "name": "stdout",
     "output_type": "stream",
     "text": [
      "[array([0.82854588, 0.8587615 , 0.93951887, 0.94014842, 0.95659807,\n",
      "       0.99044161, 0.99658744, 0.8948912 , 0.90608952, 0.87085448,\n",
      "       0.92563688, 0.88723784, 0.95383159, 1.        , 0.98630015,\n",
      "       0.97354471, 0.96794547, 0.93711684, 0.90355493, 0.93605672,\n",
      "       0.93925392, 0.93415168, 0.89449354, 0.87824272, 0.84285859,\n",
      "       0.83247182, 0.84017493, 0.80563555, 0.82655803, 0.8726767 ,\n",
      "       0.90030814, 0.95209217, 0.97564857, 0.91457111, 0.96665331,\n",
      "       0.97231882, 0.97033098, 0.99875758, 0.99706791, 0.95765819,\n",
      "       0.89697838, 0.83108032, 0.83445982, 0.86889969, 0.89310204,\n",
      "       0.79569618, 0.78098596, 0.66742864, 0.70241526, 0.65952686,\n",
      "       0.64620814, 0.57136469, 0.57081803, 0.53871383, 0.54239142,\n",
      "       0.56465559, 0.48151279, 0.55287746, 0.55705198, 0.56624585])]\n",
      "[0.4928933334855383]\n",
      "\n"
     ]
    }
   ],
   "source": [
    "train_data = scaled_data[0:training_data_len, :]\n",
    "#Split the data into x_train, y_train datasets\n",
    "x_train = []\n",
    "y_train = []\n",
    "for i in range(60,len(train_data)):\n",
    "    x_train.append(train_data[i-60:i, 0])\n",
    "    y_train.append(train_data[i,0])\n",
    "    if i<=60:\n",
    "        print(x_train)\n",
    "        print(y_train)\n",
    "        print()\n"
   ]
  },
  {
   "cell_type": "code",
   "execution_count": 11,
   "id": "8c556123",
   "metadata": {},
   "outputs": [],
   "source": [
    "x_train,y_train = np.array(x_train), np.array(y_train)\n"
   ]
  },
  {
   "cell_type": "code",
   "execution_count": 12,
   "id": "82085292",
   "metadata": {},
   "outputs": [
    {
     "data": {
      "text/plain": [
       "(141, 60, 1)"
      ]
     },
     "execution_count": 12,
     "metadata": {},
     "output_type": "execute_result"
    }
   ],
   "source": [
    "x_train = np.reshape(x_train,(x_train.shape[0],x_train.shape[1],1))\n",
    "x_train.shape\n",
    "\n"
   ]
  },
  {
   "cell_type": "code",
   "execution_count": 13,
   "id": "181339f9",
   "metadata": {},
   "outputs": [],
   "source": [
    "model =Sequential()\n",
    "model.add(LSTM(64,return_sequences=True, input_shape=(x_train.shape[1],1)))\n",
    "model.add(LSTM(64, return_sequences= False))\n",
    "model.add(Dense(32))\n",
    "model.add(Dense(1))\n",
    "\n"
   ]
  },
  {
   "cell_type": "code",
   "execution_count": 14,
   "id": "503bcc5a",
   "metadata": {},
   "outputs": [],
   "source": [
    "model.compile(optimizer='adam', loss='mean_squared_error')\n"
   ]
  },
  {
   "cell_type": "code",
   "execution_count": 15,
   "id": "32dfe960",
   "metadata": {
    "scrolled": true
   },
   "outputs": [
    {
     "name": "stdout",
     "output_type": "stream",
     "text": [
      "Epoch 1/10\n",
      "141/141 [==============================] - 5s 19ms/step - loss: 0.0111\n",
      "Epoch 2/10\n",
      "141/141 [==============================] - 3s 19ms/step - loss: 0.0041\n",
      "Epoch 3/10\n",
      "141/141 [==============================] - 3s 18ms/step - loss: 0.0034\n",
      "Epoch 4/10\n",
      "141/141 [==============================] - 3s 18ms/step - loss: 0.0033\n",
      "Epoch 5/10\n",
      "141/141 [==============================] - 3s 18ms/step - loss: 0.0029\n",
      "Epoch 6/10\n",
      "141/141 [==============================] - 2s 17ms/step - loss: 0.0028\n",
      "Epoch 7/10\n",
      "141/141 [==============================] - 3s 18ms/step - loss: 0.0021\n",
      "Epoch 8/10\n",
      "141/141 [==============================] - 3s 21ms/step - loss: 0.0023\n",
      "Epoch 9/10\n",
      "141/141 [==============================] - 3s 20ms/step - loss: 0.0022\n",
      "Epoch 10/10\n",
      "141/141 [==============================] - 3s 19ms/step - loss: 0.0022\n"
     ]
    },
    {
     "data": {
      "text/plain": [
       "<keras.src.callbacks.History at 0x242cc8ea2e0>"
      ]
     },
     "execution_count": 15,
     "metadata": {},
     "output_type": "execute_result"
    }
   ],
   "source": [
    "model.fit(x_train,y_train, batch_size=1, epochs=10)\n"
   ]
  },
  {
   "cell_type": "code",
   "execution_count": 16,
   "id": "ee358f81",
   "metadata": {},
   "outputs": [],
   "source": [
    "test_data= scaled_data[training_data_len-60:, :]\n",
    "#create the data sets x_test and y_test\n",
    "x_test = []\n",
    "y_test = dataset[training_data_len:,:]\n",
    "for i in range(60,len(test_data)):\n",
    "    x_test.append(test_data[i-60:i,0])\n"
   ]
  },
  {
   "cell_type": "code",
   "execution_count": 17,
   "id": "ef82211e",
   "metadata": {},
   "outputs": [],
   "source": [
    "x_test = np.array(x_test)"
   ]
  },
  {
   "cell_type": "code",
   "execution_count": 18,
   "id": "26a8915b",
   "metadata": {},
   "outputs": [
    {
     "data": {
      "text/plain": [
       "(50, 60, 1)"
      ]
     },
     "execution_count": 18,
     "metadata": {},
     "output_type": "execute_result"
    }
   ],
   "source": [
    "x_test = np.reshape(x_test, (x_test.shape[0], x_test.shape[1],1))\n",
    "x_test.shape\n"
   ]
  },
  {
   "cell_type": "code",
   "execution_count": 19,
   "id": "662da8eb",
   "metadata": {},
   "outputs": [
    {
     "name": "stdout",
     "output_type": "stream",
     "text": [
      "2/2 [==============================] - 1s 11ms/step\n"
     ]
    }
   ],
   "source": [
    "\n",
    "predictions = model.predict(x_test)\n",
    "predictions = scaler.inverse_transform(predictions)\n"
   ]
  },
  {
   "cell_type": "code",
   "execution_count": 27,
   "id": "88b1def2",
   "metadata": {},
   "outputs": [
    {
     "data": {
      "text/plain": [
       "<matplotlib.legend.Legend at 0x242cc74ef70>"
      ]
     },
     "execution_count": 27,
     "metadata": {},
     "output_type": "execute_result"
    },
    {
     "data": {
      "image/png": "[encoded data removed]",
      "text/plain": [
       "<Figure size 1152x576 with 1 Axes>"
      ]
     },
     "metadata": {
      "needs_background": "light"
     },
     "output_type": "display_data"
    }
   ],
   "source": [
    "train = data[:training_data_len]\n",
    "valid = data[training_data_len:]\n",
    "#valid['Predictions'] = predictions\n",
    "valid.loc[:, 'Predictions'] = predictions\n",
    "\n",
    "#Visialization the data\n",
    "plt.figure(figsize=(16, 8))\n",
    "plt.title('Model')\n",
    "plt.xlabel('Date', fontsize=18)\n",
    "plt.ylabel('Close Price', fontsize=18)\n",
    "plt.plot(train['Close'], linewidth=3.5)\n",
    "plt.plot(valid['Close'], linewidth=3.5)\n",
    "plt.plot(valid['Predictions'], linewidth=3.5)\n",
    "plt.legend(['Train', 'Valid', 'Predictions'], loc='upper center')\n"
   ]
  },
  {
   "cell_type": "code",
   "execution_count": 21,
   "id": "190f6212",
   "metadata": {},
   "outputs": [
    {
     "data": {
      "text/plain": [
       "10.515870372226562"
      ]
     },
     "execution_count": 21,
     "metadata": {},
     "output_type": "execute_result"
    }
   ],
   "source": [
    "rmse = np.sqrt(np.mean(predictions - y_test)**2)\n",
    "rmse"
   ]
  },
  {
   "cell_type": "code",
   "execution_count": 23,
   "id": "6a7d2321",
   "metadata": {},
   "outputs": [
    {
     "name": "stdout",
     "output_type": "stream",
     "text": [
      "1/1 [==============================] - 0s 29ms/step\n"
     ]
    },
    {
     "data": {
      "text/plain": [
       "array([[249.34245]], dtype=float32)"
      ]
     },
     "execution_count": 23,
     "metadata": {},
     "output_type": "execute_result"
    }
   ],
   "source": [
    "tesla_quote = pd.read_csv('TSLA.csv')\n",
    "#Create new data frame\n",
    "new_df = tesla_quote.filter(['Close'])\n",
    "#get the last 60 days closing price values and convert the dataframe to an array\n",
    "last_60_days = new_df[-60:].values\n",
    "#scaled the data to be values between 0 and 1\n",
    "last_60_days_scaled = scaler.transform(last_60_days)\n",
    "#create an empty list\n",
    "X_test = []\n",
    "#append the past 60 days \n",
    "X_test.append(last_60_days_scaled)\n",
    "#convert the X_test data set to a numpy array\n",
    "X_test = np.array(X_test)\n",
    "#Reshape the data\n",
    "X_test = np.reshape(X_test,(X_test.shape[0], X_test.shape[1],1))\n",
    "#get the predicted scaled price\n",
    "pred_price= model.predict(X_test)\n",
    "#undo the scalling\n",
    "pred_price = scaler.inverse_transform(pred_price)\n",
    "pred_price\n"
   ]
  },
  {
   "cell_type": "code",
   "execution_count": 24,
   "id": "c8503411",
   "metadata": {},
   "outputs": [
    {
     "data": {
      "text/plain": [
       "[<matplotlib.lines.Line2D at 0x242cc5df6a0>]"
      ]
     },
     "execution_count": 24,
     "metadata": {},
     "output_type": "execute_result"
    },
    {
     "data": {
      "image/png": "[encoded data removed]",
      "text/plain": [
       "<Figure size 432x288 with 1 Axes>"
      ]
     },
     "metadata": {
      "needs_background": "light"
     },
     "output_type": "display_data"
    }
   ],
   "source": [
    "plt.plot(valid['Close'], label='Actual') \n"
   ]
  },
  {
   "cell_type": "code",
   "execution_count": 25,
   "id": "f9cf1e75",
   "metadata": {},
   "outputs": [
    {
     "data": {
      "image/png": "[encoded data removed]",
      "text/plain": [
       "<Figure size 432x288 with 1 Axes>"
      ]
     },
     "metadata": {
      "needs_background": "light"
     },
     "output_type": "display_data"
    }
   ],
   "source": [
    "plt.plot(valid['Predictions'], label='Predicted')\n",
    "\n",
    "plt.title('Stock Price Prediction')\n",
    "plt.xlabel('Date')\n",
    "plt.ylabel('Close Price')\n",
    "plt.legend()\n",
    "\n",
    "plt.show()"
   ]
  }
 ],
 "metadata": {
  "kernelspec": {
   "display_name": "Python 3 (ipykernel)",
   "language": "python",
   "name": "python3"
  },
  "language_info": {
   "codemirror_mode": {
    "name": "ipython",
    "version": 3
   },
   "file_extension": ".py",
   "mimetype": "text/x-python",
   "name": "python",
   "nbconvert_exporter": "python",
   "pygments_lexer": "ipython3",
   "version": "3.9.7"
  }
 },
 "nbformat": 4,
 "nbformat_minor": 5
}
